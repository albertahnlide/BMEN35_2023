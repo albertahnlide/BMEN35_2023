{
  "cells": [
    {
      "cell_type": "markdown",
      "id": "557d33a8",
      "metadata": {
        "id": "557d33a8"
      },
      "source": [
        "# Assignment 1\n",
        "\n",
        "\n",
        "## Fill in your name below\n",
        "\n",
        "Albert Ahnlide\n",
        "\n",
        "## Your mission now is the following:\n",
        "\n",
        "\n",
        "1.   Generate x-values (1000 values between 0 and 5)\n",
        "2.   Generate y-values according to some function (y = x, y = e^x, y = x^2 or similar) that is defined through all x-values\n",
        "3. Take 100 random samples from the y array. (tip: np.random.randint(x,y,z) generates z number of integer values between x and y). Compute the mean of these 100 random samples.\n",
        "4. Repeat step 3, 50000 times and store the means in a variable (clt)\n",
        "5. Plot a histogram of the clt variable\n",
        "6. Go back and change the function in step 2 to something else and run the script again.\n",
        "7. What is the plot showing?\n",
        "\n",
        "\n",
        "### When you have finished this assignment , save this notebook, download it and submit it as assignment 1 in Canvas."
      ]
    },
    {
      "cell_type": "code",
      "execution_count": 2,
      "id": "d703706d",
      "metadata": {
        "colab": {
          "base_uri": "https://localhost:8080/",
          "height": 448
        },
        "id": "d703706d",
        "outputId": "1daf1fb4-3a87-4d63-c45c-7725b5a6d373"
      },
      "outputs": [
        {
          "data": {
            "text/plain": [
              "<function matplotlib.pyplot.show(close=None, block=None)>"
            ]
          },
          "execution_count": 2,
          "metadata": {},
          "output_type": "execute_result"
        },
        {
          "data": {
            "image/png": "[encoded data removed]",
            "text/plain": [
              "<Figure size 640x480 with 1 Axes>"
            ]
          },
          "metadata": {},
          "output_type": "display_data"
        }
      ],
      "source": [
        "import numpy as np\n",
        "import matplotlib.pyplot as plt\n",
        "\n",
        "x = np.arange(0,5,0.0005)\n",
        "\n",
        "y = x*x\n",
        "\n",
        "clt = []\n",
        "\n",
        "for i in range(0,50000):\n",
        "  values = []\n",
        "  samples = np.random.randint(0,x.size,100)\n",
        "  for j in samples:\n",
        "    values.append(y[j])\n",
        "  clt.append(np.mean(values))\n",
        "\n",
        "\n",
        "\n",
        "plt.hist(clt, bins=100)\n",
        "plt.show"
      ]
    },
    {
      "cell_type": "markdown",
      "id": "n6fv_Qn1Un27",
      "metadata": {
        "id": "n6fv_Qn1Un27"
      },
      "source": [
        "The plot is showing the mean on the x-axis as well as the numnber of times it occurs on the y-axis. This means that the most common mean for me is between 8 and 9 and that it is normal distribution."
      ]
    }
  ],
  "metadata": {
    "colab": {
      "provenance": []
    },
    "kernelspec": {
      "display_name": "Python 3 (ipykernel)",
      "language": "python",
      "name": "python3"
    },
    "language_info": {
      "codemirror_mode": {
        "name": "ipython",
        "version": 3
      },
      "file_extension": ".py",
      "mimetype": "text/x-python",
      "name": "python",
      "nbconvert_exporter": "python",
      "pygments_lexer": "ipython3",
      "version": "3.9.6"
    }
  },
  "nbformat": 4,
  "nbformat_minor": 5
}
