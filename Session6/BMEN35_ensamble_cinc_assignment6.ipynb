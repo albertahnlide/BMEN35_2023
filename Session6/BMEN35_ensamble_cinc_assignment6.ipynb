{
  "cells": [
    {
      "cell_type": "markdown",
      "metadata": {
        "colab_type": "text",
        "id": "view-in-github"
      },
      "source": [
        "<a href=\"https://colab.research.google.com/github/antfolk/BMEN35_2023/blob/main/Session6/BMEN35_ensamble_cinc_assignment6.ipynb\" target=\"_parent\"><img src=\"https://colab.research.google.com/assets/colab-badge.svg\" alt=\"Open In Colab\"/></a>"
      ]
    },
    {
      "cell_type": "markdown",
      "metadata": {
        "id": "YkiFi80bGKEc"
      },
      "source": [
        "# Assignment 6\n",
        "## Fill in your name below\n",
        "Albert Ahnlide\n",
        "\n",
        "## Your mission is now the following:\n",
        "\n",
        "You will use data from the Computing in Cardiology challenge 2022 (as was explained in the lectures) (https://moody-challenge.physionet.org/2022/). The training set contains data from 942 patients.\n",
        "\n",
        "We have done some preprocessing of the data so you have features and labels for both **murmur** and **outcome**. The features include age, sex, weight, heigth, pregnancy status and mean, variance and skewness for the phonocardiogram at five different locations.\n",
        "\n",
        "Evaluate different ensamble methods (at least 3) from sklearn (https://scikit-learn.org/stable/modules/ensemble.html and https://scikit-learn.org/stable/modules/classes.html#module-sklearn.ensemble) and see how they perform on the CinC2022 challenge data. Take some time to read the documentation and see what options are available.\n",
        "\n",
        "As you may remember from the lecture there is quite an eloborate scoring scheme, however this is handled by the file cinc2022metric.py and the methods contained therein.\n",
        "\n",
        "**Also remeber you have two sets of labels!!! One set of labels for murmurs (Present, Unknown, Absent) and one for outcomes (Abnormal, Normal).**\n",
        "\n",
        "**Another thing you need to take into account is that the scoring functions need label probabilities of the predicted classes.**\n",
        "\n",
        "You will also need one-hot encoding of \"hard\" values for the training labels and for the test labels.\n",
        "\n",
        "We will start by uploading some files. You need to upload the files cinc2022metrics.py, feats.csv, murmur_labels.csv and outcome_labels.csv"
      ]
    },
    {
      "cell_type": "code",
      "execution_count": 5,
      "metadata": {
        "id": "NRiQuM1OHKQR"
      },
      "outputs": [],
      "source": [
        "#from google.colab import files\n",
        "#_ = files.upload() # Upload the other files available in github under Session 6"
      ]
    },
    {
      "cell_type": "markdown",
      "metadata": {
        "id": "5YbyBrB9MKBW"
      },
      "source": [
        "Next we will import some of the libraries/modules needed. (You will need to import others later on)."
      ]
    },
    {
      "cell_type": "code",
      "execution_count": 6,
      "metadata": {
        "id": "SJx0_S_GMLfV"
      },
      "outputs": [
        {
          "name": "stderr",
          "output_type": "stream",
          "text": [
            "/Users/albertahnlide/Library/Python/3.9/lib/python/site-packages/urllib3/__init__.py:34: NotOpenSSLWarning: urllib3 v2.0 only supports OpenSSL 1.1.1+, currently the 'ssl' module is compiled with 'LibreSSL 2.8.3'. See: https://github.com/urllib3/urllib3/issues/3020\n",
            "  warnings.warn(\n"
          ]
        }
      ],
      "source": [
        "import pandas as pd\n",
        "from matplotlib import pyplot as plt\n",
        "from sklearn.metrics import accuracy_score\n",
        "import cinc2022metrics as cm # Our own little metrics file\n",
        "from tensorflow.keras.utils import to_categorical\n",
        "from sklearn.model_selection import train_test_split"
      ]
    },
    {
      "cell_type": "markdown",
      "metadata": {
        "id": "bgS-HYV4MWn3"
      },
      "source": [
        "Next we will import data and the two different sets of labels and switch to numpy arrays.\n",
        "\n"
      ]
    },
    {
      "cell_type": "code",
      "execution_count": 7,
      "metadata": {
        "id": "NXy1fcB8Mah0"
      },
      "outputs": [],
      "source": [
        "feats = pd.read_csv('feats.csv', header=None)\n",
        "murmur_labels = pd.read_csv('murmur_labels.csv', header=None)\n",
        "outcome_labels = pd.read_csv('outcome_labels.csv', header=None)\n",
        "\n",
        "feats = feats.to_numpy()\n",
        "murmur_labels = murmur_labels.to_numpy()\n",
        "outcome_labels = outcome_labels.to_numpy()"
      ]
    },
    {
      "cell_type": "markdown",
      "metadata": {
        "id": "M6AjJag6bbYG"
      },
      "source": [
        "Here we will split the data and also define what the different classes for murmur and outcome are."
      ]
    },
    {
      "cell_type": "code",
      "execution_count": 8,
      "metadata": {
        "id": "DYFYliDGNCl0"
      },
      "outputs": [],
      "source": [
        "X_train, X_test, y_train_murmur, y_test_murmur, y_train_outcome, y_test_outcome = train_test_split(feats, murmur_labels, outcome_labels, test_size=0.2, random_state=0)\n",
        "murmur_classes = ['Present', 'Unknown', 'Absent']\n",
        "outcome_classes = ['Abnormal', 'Normal']"
      ]
    },
    {
      "cell_type": "markdown",
      "metadata": {
        "id": "3AaRI3joNGvd"
      },
      "source": [
        "Next you can try out some of the available ensemble methods. Remember you need to predict probabilities for both classifiers."
      ]
    },
    {
      "cell_type": "code",
      "execution_count": 14,
      "metadata": {
        "id": "FT0zGggANGIW"
      },
      "outputs": [
        {
          "name": "stderr",
          "output_type": "stream",
          "text": [
            "/Users/albertahnlide/Library/Python/3.9/lib/python/site-packages/sklearn/base.py:1152: DataConversionWarning: A column-vector y was passed when a 1d array was expected. Please change the shape of y to (n_samples,), for example using ravel().\n",
            "  return fit_method(estimator, *args, **kwargs)\n",
            "/Users/albertahnlide/Library/Python/3.9/lib/python/site-packages/sklearn/base.py:1152: DataConversionWarning: A column-vector y was passed when a 1d array was expected. Please change the shape of y to (n_samples,), for example using ravel().\n",
            "  return fit_method(estimator, *args, **kwargs)\n",
            "/Users/albertahnlide/Library/Python/3.9/lib/python/site-packages/sklearn/ensemble/_gb.py:424: DataConversionWarning: A column-vector y was passed when a 1d array was expected. Please change the shape of y to (n_samples, ), for example using ravel().\n",
            "  y = column_or_1d(y, warn=True)\n",
            "/Users/albertahnlide/Library/Python/3.9/lib/python/site-packages/sklearn/ensemble/_gb.py:424: DataConversionWarning: A column-vector y was passed when a 1d array was expected. Please change the shape of y to (n_samples, ), for example using ravel().\n",
            "  y = column_or_1d(y, warn=True)\n",
            "/Users/albertahnlide/Library/Python/3.9/lib/python/site-packages/sklearn/utils/validation.py:1183: DataConversionWarning: A column-vector y was passed when a 1d array was expected. Please change the shape of y to (n_samples, ), for example using ravel().\n",
            "  y = column_or_1d(y, warn=True)\n",
            "/Users/albertahnlide/Library/Python/3.9/lib/python/site-packages/sklearn/utils/validation.py:1183: DataConversionWarning: A column-vector y was passed when a 1d array was expected. Please change the shape of y to (n_samples, ), for example using ravel().\n",
            "  y = column_or_1d(y, warn=True)\n",
            "/Users/albertahnlide/Library/Python/3.9/lib/python/site-packages/sklearn/ensemble/_bagging.py:802: DataConversionWarning: A column-vector y was passed when a 1d array was expected. Please change the shape of y to (n_samples, ), for example using ravel().\n",
            "  y = column_or_1d(y, warn=True)\n",
            "/Users/albertahnlide/Library/Python/3.9/lib/python/site-packages/sklearn/ensemble/_bagging.py:802: DataConversionWarning: A column-vector y was passed when a 1d array was expected. Please change the shape of y to (n_samples, ), for example using ravel().\n",
            "  y = column_or_1d(y, warn=True)\n"
          ]
        },
        {
          "name": "stdout",
          "output_type": "stream",
          "text": [
            "rf murmur: 0.7037037037037037\n",
            "rf outcome: 0.6031746031746031\n",
            "gb murmur: 0.7037037037037037\n",
            "gb outcome: 0.6296296296296297\n",
            "adaboost murmur: 0.6455026455026455\n",
            "adaboost outcome: 0.6031746031746031\n",
            "bagging murmur: 0.7037037037037037\n",
            "bagging outcome: 0.6031746031746031\n"
          ]
        }
      ],
      "source": [
        "# Do some imports (you now how to do this by now)\n",
        "from sklearn.preprocessing import OneHotEncoder\n",
        "from sklearn.ensemble import RandomForestClassifier \n",
        "from sklearn.ensemble import GradientBoostingClassifier\n",
        "from sklearn.ensemble import AdaBoostClassifier\n",
        "from sklearn.ensemble import BaggingClassifier\n",
        "\n",
        "\n",
        "\n",
        "rfMur = RandomForestClassifier(n_estimators=100)\n",
        "rfOut = RandomForestClassifier(n_estimators=100)\n",
        "rfMur.fit(X_train, y_train_murmur)\n",
        "rfOut.fit(X_train, y_train_outcome)\n",
        "rfMurProb = rfMur.predict_proba(X_test)\n",
        "rfOutProb = rfOut.predict_proba(X_test)\n",
        "\n",
        "gbMur = GradientBoostingClassifier(n_estimators=100)\n",
        "gbOut = GradientBoostingClassifier(n_estimators=100)\n",
        "gbMur.fit(X_train, y_train_murmur)\n",
        "gbOut.fit(X_train, y_train_outcome)\n",
        "gbMurProb = gbMur.predict_proba(X_test)\n",
        "gbOutProb = gbOut.predict_proba(X_test)\n",
        "\n",
        "adaMur = AdaBoostClassifier(n_estimators=100)\n",
        "adaOut = AdaBoostClassifier(n_estimators=100)\n",
        "adaMur.fit(X_train, y_train_murmur)\n",
        "adaOut.fit(X_train, y_train_outcome)\n",
        "adaMurProb = adaMur.predict_proba(X_test)\n",
        "adaOutProb = adaOut.predict_proba(X_test)\n",
        "\n",
        "bagMur = BaggingClassifier(n_estimators=100)\n",
        "bagOut = BaggingClassifier(n_estimators=100)\n",
        "bagMur.fit(X_train, y_train_murmur)\n",
        "bagOut.fit(X_train, y_train_outcome)\n",
        "bagMurProb = bagMur.predict_proba(X_test)\n",
        "bagOutProb = bagOut.predict_proba(X_test)\n",
        "\n",
        "\n",
        "\n",
        "score_rfMur = rfMur.score(X_test,y_test_murmur)\n",
        "score_rfOut = rfOut.score(X_test, y_test_outcome)\n",
        "print(\"rf murmur: \" + str(score_rfMur))\n",
        "print(\"rf outcome: \" + str(score_rfOut))\n",
        "\n",
        "score_gbMur = gbMur.score(X_test, y_test_murmur)\n",
        "score_gbOut = gbOut.score(X_test,y_test_outcome)\n",
        "print(\"gb murmur: \" + str(score_gbMur))\n",
        "print(\"gb outcome: \" + str(score_gbOut))\n",
        "\n",
        "score_adaMur = adaMur.score(X_test, y_test_murmur)\n",
        "score_adaOut = adaOut.score(X_test,y_test_outcome)\n",
        "print(\"adaboost murmur: \" + str(score_adaMur))\n",
        "print(\"adaboost outcome: \" + str(score_adaOut))\n",
        "\n",
        "score_bagMur = bagMur.score(X_test, y_test_murmur)\n",
        "score_bagOut = bagOut.score(X_test,y_test_outcome)\n",
        "print(\"bagging murmur: \" + str(score_bagMur))\n",
        "print(\"bagging outcome: \" + str(score_bagOut))\n",
        "\n",
        "\n"
      ]
    },
    {
      "cell_type": "code",
      "execution_count": 25,
      "metadata": {},
      "outputs": [
        {
          "name": "stderr",
          "output_type": "stream",
          "text": [
            "/Users/albertahnlide/Library/Python/3.9/lib/python/site-packages/sklearn/preprocessing/_encoders.py:975: FutureWarning: `sparse` was renamed to `sparse_output` in version 1.2 and will be removed in 1.4. `sparse_output` is ignored unless you leave `sparse` to its default value.\n",
            "  warnings.warn(\n",
            "/Users/albertahnlide/Library/Python/3.9/lib/python/site-packages/sklearn/preprocessing/_encoders.py:975: FutureWarning: `sparse` was renamed to `sparse_output` in version 1.2 and will be removed in 1.4. `sparse_output` is ignored unless you leave `sparse` to its default value.\n",
            "  warnings.warn(\n"
          ]
        }
      ],
      "source": [
        "y_pred_murmur_prob = gbMurProb\n",
        "y_pred_outcome_prob = gbOutProb\n",
        "\n",
        "\n",
        "ohe = OneHotEncoder(handle_unknown='ignore', sparse=False)\n",
        "y_test_murmur_bin = ohe.fit_transform(y_test_murmur) \n",
        "y_test_outcome_bin = ohe.fit_transform(y_test_outcome)"
      ]
    },
    {
      "cell_type": "markdown",
      "metadata": {
        "id": "7MzLjkQXb0-d"
      },
      "source": [
        "Now you should also One-hot encode the **test** (not the predicted ones) labels for both murmur and outcome."
      ]
    },
    {
      "cell_type": "code",
      "execution_count": 26,
      "metadata": {
        "id": "E0LHwnQUb0fV"
      },
      "outputs": [],
      "source": [
        "murmur_scores, outcome_scores = cm.compute_scores(y_test_murmur_bin,   # One-hot encoded test labels for murmur eg. [1 0 0]\n",
        "                                                  y_pred_murmur_prob,  # One-hot encoded predicted probabilities for murmur eg. [0.1 0.7 0.2]\n",
        "                                                  murmur_classes,      # As defined before\n",
        "                                                  y_test_outcome_bin,  # One-hot encoded test labels for outcome eg. [1 0]\n",
        "                                                  y_pred_outcome_prob, # One-hot encoded predicted probabilities for outcome eg. [0.1 0.9]\n",
        "                                                  outcome_classes)     # As defined before\n",
        "\n"
      ]
    },
    {
      "cell_type": "markdown",
      "metadata": {
        "id": "T91QCcRgcl9T"
      },
      "source": [
        "Now we have calculated a whole bunch of scores for both murmur and outcome. We can print them using the following."
      ]
    },
    {
      "cell_type": "code",
      "execution_count": 27,
      "metadata": {
        "id": "Vq_XJnNot7qH"
      },
      "outputs": [
        {
          "name": "stdout",
          "output_type": "stream",
          "text": [
            "#Murmur scores\n",
            "AUROC,AUPRC,F-meas,Accuracy,Weighted Accuracy,Cost\n",
            "0.543,0.364,0.305,0.704,0.649,13907.760\n",
            "\n",
            "#Outcome scores\n",
            "AUROC,AUPRC,F-measure,Accuracy,Weighted Accuracy,Cost\n",
            "0.650,0.638,0.628,0.630,0.629,11778.128\n",
            "\n",
            "#Murmur scores (per class)\n",
            "Classes,Present,Unknown,Absent\n",
            "AUROC,0.538,0.551,0.540\n",
            "AUPRC,0.269,0.741,0.082\n",
            "F-measure,0.089,0.826,0.000\n",
            "Accuracy,0.050,0.963,0.000\n",
            "\n",
            "#Outcome scores (per class)\n",
            "Classes,Abnormal,Normal\n",
            "AUROC,0.650,0.650\n",
            "AUPRC,0.616,0.660\n",
            "F-measure,0.607,0.650\n",
            "Accuracy,0.628,0.631\n",
            "\n"
          ]
        }
      ],
      "source": [
        "cm.print_scores(murmur_scores, outcome_scores)"
      ]
    },
    {
      "cell_type": "markdown",
      "metadata": {
        "id": "gGczxkWWR50z"
      },
      "source": [
        "Did you manage to comparable scores to those in the leaderboard as shown in the last slide of the lecture? (It should be noted that we don't have the validation data so we are perhaps comparing apples and oranges). Which set of ensemble classifiers worked the best?\n",
        "\n",
        "    I did unfortunatelly not get as good results as the ones that led to the scores on the leaderboard. The Random Forest got the best score on the murmur while the Gradient Boosting got the best on outcome and it also had the minimum cost. "
      ]
    },
    {
      "cell_type": "markdown",
      "metadata": {
        "id": "E5zNz7eZeSvC"
      },
      "source": [
        "## The End"
      ]
    }
  ],
  "metadata": {
    "colab": {
      "include_colab_link": true,
      "provenance": []
    },
    "kernelspec": {
      "display_name": "Python 3",
      "name": "python3"
    },
    "language_info": {
      "codemirror_mode": {
        "name": "ipython",
        "version": 3
      },
      "file_extension": ".py",
      "mimetype": "text/x-python",
      "name": "python",
      "nbconvert_exporter": "python",
      "pygments_lexer": "ipython3",
      "version": "3.9.6"
    }
  },
  "nbformat": 4,
  "nbformat_minor": 0
}
