{
  "cells": [
    {
      "cell_type": "markdown",
      "metadata": {
        "colab_type": "text",
        "id": "view-in-github"
      },
      "source": [
        "<a href=\"https://colab.research.google.com/github/antfolk/BMEN35_2023/blob/main/Session4/BMEN35_Ex12_neural_netorks_assignment4.ipynb\" target=\"_parent\"><img src=\"https://colab.research.google.com/assets/colab-badge.svg\" alt=\"Open In Colab\"/></a>"
      ]
    },
    {
      "cell_type": "markdown",
      "metadata": {
        "id": "NtwDyGfrmzd2"
      },
      "source": [
        "# Assignment 4\n",
        "## Fill in your name below\n",
        "Albert Ahnlide\n",
        "\n",
        "## Your mission is now the following:\n",
        "\n",
        "You will use a dataset from OpenML (https://www.openml.org/). If you look at their webpage there are a lot of dataset that you can use. In this assignment you will use the SPECTF dataset from OpenML. (More info on this dataset can be found here: https://www.openml.org/search?type=data&sort=runs&id=337&status=active and here https://archive.ics.uci.edu/ml/datasets/SPECTF+Heart) and the original paper (https://doi.org/10.1016/S0933-3657(01)00082-3 )\n",
        "\n",
        "You should do the following\n",
        "\n",
        "1.   Fetch the dataset from OpenML (data_id is 337)\n",
        "2.   Train a neural network (using sklearns MLPClassifier) with two hidden layers. You can try with diffrent number of neurons in the hidden layers. (https://scikit-learn.org/stable/modules/generated/sklearn.neural_network.MLPClassifier.html)\n",
        "3.   Find the accuracy, f1-score, precision, recall for the classifier\n",
        "4.   Plot the ROC-curve\n",
        "\n",
        "\n",
        "\n",
        "\n",
        "\n",
        "Some tips/hints:\n",
        "*   There is a nice little api from sklearn to fetch dataset from OpenML. (fetch_openml). Easiest way to get the data is to use its id.\n",
        "*   Once you get your data fetched from openML you can use data.data for your data/features and data.target for your targets/classes\n",
        "*   There is some trickery to get the imported data to a numpy array\n",
        "    I would use something like: `x = data.data.to_numpy()`  and` y = data.target.to_numpy()` and furthermore y is an array of string and we want it to be integers so we can change that with `y = y.astype(int)`\n",
        "*   A good number of neurons for the hidden layers are in the double digits.\n",
        "*   sklearn.metrics has built-in functionality to get the \"metrics\" you need (accuracy, f1-score, precision, recall and ROC-curve)\n",
        "\n",
        "\n",
        "\n",
        "We will start you off with some imports and you will fill in the rest.\n",
        "\n",
        "\n",
        "## When you have finished this assignment , save this notebook and submit it as assignment 4"
      ]
    },
    {
      "cell_type": "code",
      "execution_count": 3,
      "metadata": {
        "id": "GRj6dZVSrK3b"
      },
      "outputs": [
        {
          "name": "stderr",
          "output_type": "stream",
          "text": [
            "/Users/albertahnlide/Library/Python/3.9/lib/python/site-packages/sklearn/datasets/_openml.py:1022: FutureWarning: The default value of `parser` will change from `'liac-arff'` to `'auto'` in 1.4. You can set `parser='auto'` to silence this warning. Therefore, an `ImportError` will be raised from 1.4 if the dataset is dense and pandas is not installed. Note that the pandas parser may return different data types. See the Notes Section in fetch_openml's API doc for details.\n",
            "  warn(\n"
          ]
        },
        {
          "ename": "TypeError",
          "evalue": "'Bunch' object is not callable",
          "output_type": "error",
          "traceback": [
            "\u001b[0;31m---------------------------------------------------------------------------\u001b[0m",
            "\u001b[0;31mTypeError\u001b[0m                                 Traceback (most recent call last)",
            "\u001b[1;32m/Users/albertahnlide/Documents/GitHub/BMEN35_exercises/Session4/BMEN35_Ex12_neural_netorks_assignment4.ipynb Cell 3\u001b[0m line \u001b[0;36m7\n\u001b[1;32m      <a href='vscode-notebook-cell:/Users/albertahnlide/Documents/GitHub/BMEN35_exercises/Session4/BMEN35_Ex12_neural_netorks_assignment4.ipynb#W2sZmlsZQ%3D%3D?line=3'>4</a>\u001b[0m \u001b[39mfrom\u001b[39;00m \u001b[39msklearn\u001b[39;00m\u001b[39m.\u001b[39;00m\u001b[39mmetrics\u001b[39;00m \u001b[39mimport\u001b[39;00m accuracy_score, f1_score, recall_score, precision_score, RocCurveDisplay\n\u001b[1;32m      <a href='vscode-notebook-cell:/Users/albertahnlide/Documents/GitHub/BMEN35_exercises/Session4/BMEN35_Ex12_neural_netorks_assignment4.ipynb#W2sZmlsZQ%3D%3D?line=5'>6</a>\u001b[0m data \u001b[39m=\u001b[39m fetch_openml(data_id \u001b[39m=\u001b[39m \u001b[39m337\u001b[39m)\n\u001b[0;32m----> <a href='vscode-notebook-cell:/Users/albertahnlide/Documents/GitHub/BMEN35_exercises/Session4/BMEN35_Ex12_neural_netorks_assignment4.ipynb#W2sZmlsZQ%3D%3D?line=6'>7</a>\u001b[0m \u001b[39mprint\u001b[39m(data(\u001b[39m1\u001b[39;49m))\n",
            "\u001b[0;31mTypeError\u001b[0m: 'Bunch' object is not callable"
          ]
        }
      ],
      "source": [
        "from sklearn.datasets import fetch_openml\n",
        "import matplotlib.pyplot as plt\n",
        "from sklearn.neural_network import MLPClassifier\n",
        "from sklearn.metrics import accuracy_score, f1_score, recall_score, precision_score, RocCurveDisplay\n",
        "\n",
        "data = fetch_openml(data_id = 337)\n",
        "print(data)\n"
      ]
    }
  ],
  "metadata": {
    "colab": {
      "include_colab_link": true,
      "provenance": []
    },
    "kernelspec": {
      "display_name": "Python 3",
      "name": "python3"
    },
    "language_info": {
      "codemirror_mode": {
        "name": "ipython",
        "version": 3
      },
      "file_extension": ".py",
      "mimetype": "text/x-python",
      "name": "python",
      "nbconvert_exporter": "python",
      "pygments_lexer": "ipython3",
      "version": "3.9.6"
    }
  },
  "nbformat": 4,
  "nbformat_minor": 0
}
